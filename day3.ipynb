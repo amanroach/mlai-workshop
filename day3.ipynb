{
 "cells": [
  {
   "cell_type": "code",
   "execution_count": 4,
   "id": "1326b090",
   "metadata": {},
   "outputs": [
    {
     "name": "stdout",
     "output_type": "stream",
     "text": [
      "enter a no1:3\n",
      "enter a no2:4\n"
     ]
    },
    {
     "data": {
      "text/plain": [
       "7"
      ]
     },
     "execution_count": 4,
     "metadata": {},
     "output_type": "execute_result"
    }
   ],
   "source": [
    "def add(x,y):\n",
    "   c=x+y\n",
    "   return c\n",
    "a=int(input('enter a no1:'))\n",
    "b=int(input('enter a no2:'))\n",
    "add(a,b)"
   ]
  },
  {
   "cell_type": "code",
   "execution_count": 6,
   "id": "7511cf8d",
   "metadata": {},
   "outputs": [
    {
     "name": "stdout",
     "output_type": "stream",
     "text": [
      "enter a no1:3\n",
      "enter a no2:4\n",
      "sum is 7\n"
     ]
    }
   ],
   "source": [
    "a=int(input('enter a no1:'))\n",
    "b=int(input('enter a no2:'))\n",
    "print('sum is',add(a,b))"
   ]
  },
  {
   "cell_type": "code",
   "execution_count": 7,
   "id": "4a13e73f",
   "metadata": {},
   "outputs": [
    {
     "name": "stdout",
     "output_type": "stream",
     "text": [
      "enter a no1:3\n",
      "enter a no2:4\n",
      "enter a no3:5\n",
      "5 is largest\n"
     ]
    },
    {
     "data": {
      "text/plain": [
       "5"
      ]
     },
     "execution_count": 7,
     "metadata": {},
     "output_type": "execute_result"
    }
   ],
   "source": [
    "def large(x,y,z):\n",
    "    if x>y and X>z:\n",
    "        print(x,'is largest')\n",
    "    elif y>x and y>z:\n",
    "        print(y,'is largest')\n",
    "    else:\n",
    "        print(z,'is largest')\n",
    "    return c\n",
    "a=int(input('enter a no1:'))\n",
    "b=int(input('enter a no2:'))\n",
    "c=int(input('enter a no3:'))\n",
    "large(a,b,c)\n",
    "    "
   ]
  },
  {
   "cell_type": "code",
   "execution_count": 2,
   "id": "90100143",
   "metadata": {},
   "outputs": [
    {
     "name": "stdout",
     "output_type": "stream",
     "text": [
      "enter no of persons5\n",
      "enter the score:2\n",
      "enter the score:2\n",
      "enter the score:3\n",
      "enter the score:3\n",
      "enter the score:7\n",
      "[2, 2, 3, 3, 7]\n",
      "3\n"
     ]
    }
   ],
   "source": [
    "l=[]\n",
    "i=int(input('enter no of persons'))\n",
    "for i in range(0,i):\n",
    "    a=int(input('enter the score:'))\n",
    "    l.append(a)\n",
    "print(l)\n",
    "ls=set(l)\n",
    "top=max(ls)\n",
    "ls.remove(top)\n",
    "print(max(ls))\n",
    "    "
   ]
  },
  {
   "cell_type": "code",
   "execution_count": 4,
   "id": "84941c2d",
   "metadata": {},
   "outputs": [
    {
     "name": "stdout",
     "output_type": "stream",
     "text": [
      "{1, 2, 3, 4, 5, 6, 7, 8}\n"
     ]
    }
   ],
   "source": [
    "s1={1,2,3,4}\n",
    "s2={5,6,7,8}\n",
    "if s1.intersection(s2):\n",
    "   print(s1&s2)\n",
    "else:\n",
    "    print(s1.union(s2))\n",
    "    "
   ]
  },
  {
   "cell_type": "markdown",
   "id": "dced0709",
   "metadata": {},
   "source": []
  },
  {
   "cell_type": "code",
   "execution_count": 7,
   "id": "5e40dc0f",
   "metadata": {},
   "outputs": [
    {
     "name": "stdout",
     "output_type": "stream",
     "text": [
      "enter the name to be updatedkop\n",
      "Name not Found\n"
     ]
    }
   ],
   "source": [
    "D={'John':[25,32,43],'Peter':[85,55,96],'Ram':[58,55,43],'Meena':[63,79,85]}\n",
    "n=input('enter the name to be updated')\n",
    "if n in D:\n",
    "    D[n]=[88,77,99]\n",
    "    print(D)\n",
    "else:\n",
    "    print('Name not Found')"
   ]
  },
  {
   "cell_type": "code",
   "execution_count": 8,
   "id": "da07d326",
   "metadata": {},
   "outputs": [
    {
     "data": {
      "text/plain": [
       "'NRAA'"
      ]
     },
     "execution_count": 8,
     "metadata": {},
     "output_type": "execute_result"
    }
   ],
   "source": [
    "s='NIRMALA'\n",
    "s[::2]"
   ]
  },
  {
   "cell_type": "code",
   "execution_count": 11,
   "id": "be340144",
   "metadata": {},
   "outputs": [
    {
     "name": "stdout",
     "output_type": "stream",
     "text": [
      "enter a no1:4\n",
      "enter a no2:5\n",
      "enter a no3:6\n",
      "6 is oldest\n",
      "4 is youngest\n"
     ]
    }
   ],
   "source": [
    "def large(x,y,z):\n",
    "    if x>y and X>z:\n",
    "        print(x,'is oldest')\n",
    "    elif y>x and y>z:\n",
    "        print(y,'is oldest')\n",
    "    else:\n",
    "        print(z,'is oldest')\n",
    "def small(x,y,z):\n",
    "    if x<y and x<z:\n",
    "        print(x,'is youngest')\n",
    "    elif y<x and y<z:\n",
    "        print(y,'is youngest')\n",
    "    else:\n",
    "        print(z,'is youngest')\n",
    "a=int(input('enter a no1:'))\n",
    "b=int(input('enter a no2:'))\n",
    "c=int(input('enter a no3:'))\n",
    "large(a,b,c)\n",
    "small(a,b,c)              \n",
    "    "
   ]
  },
  {
   "cell_type": "code",
   "execution_count": null,
   "id": "9435392c",
   "metadata": {},
   "outputs": [],
   "source": []
  }
 ],
 "metadata": {
  "kernelspec": {
   "display_name": "Python 3 (ipykernel)",
   "language": "python",
   "name": "python3"
  },
  "language_info": {
   "codemirror_mode": {
    "name": "ipython",
    "version": 3
   },
   "file_extension": ".py",
   "mimetype": "text/x-python",
   "name": "python",
   "nbconvert_exporter": "python",
   "pygments_lexer": "ipython3",
   "version": "3.11.5"
  }
 },
 "nbformat": 4,
 "nbformat_minor": 5
}
